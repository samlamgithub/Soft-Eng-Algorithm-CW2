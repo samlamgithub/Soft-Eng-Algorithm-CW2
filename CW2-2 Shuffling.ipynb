{
 "metadata": {
  "name": "",
  "signature": "sha256:4c0aa5aa45e9c377b0ff622b3c79f0ecbabb7e326c10c245b24452ee9bd37f78"
 },
 "nbformat": 3,
 "nbformat_minor": 0,
 "worksheets": [
  {
   "cells": [
    {
     "cell_type": "heading",
     "level": 1,
     "metadata": {},
     "source": [
      "Algorithms 202: Coursework 2 Task 2: Random Shuffling"
     ]
    },
    {
     "cell_type": "heading",
     "level": 2,
     "metadata": {},
     "source": [
      "Objectives"
     ]
    },
    {
     "cell_type": "markdown",
     "metadata": {},
     "source": [
      "The aim of this coursework is to enhance your algorithmic skills by developing algorithms from textual, non-formal descriptions. You are asked to show that you can:\n",
      "\n",
      "- implement different random shuffling algorithms\n",
      "- compare those algorithms using visual representations\n",
      "\n",
      "This notebook *is* the coursework. It contains cells with function definitions that you will need to complete. You will submit this notebook as your coursework."
     ]
    },
    {
     "cell_type": "heading",
     "level": 2,
     "metadata": {},
     "source": [
      "Preliminaries: helper functions"
     ]
    },
    {
     "cell_type": "markdown",
     "metadata": {},
     "source": [
      "Here we define a collection of functions that will be useful for the rest of the coursework. You'll need to run this cell to get started."
     ]
    },
    {
     "cell_type": "code",
     "collapsed": false,
     "input": [
      "%matplotlib inline\n",
      "from matplotlib import pyplot as plt\n",
      "import random\n",
      "import numpy as np"
     ],
     "language": "python",
     "metadata": {},
     "outputs": [],
     "prompt_number": 1
    },
    {
     "cell_type": "heading",
     "level": 2,
     "metadata": {},
     "source": [
      "Task 1: Random Shuffling"
     ]
    },
    {
     "cell_type": "markdown",
     "metadata": {},
     "source": [
      "In this task you are asked to implement `random_sort_shuffle` and `fisher_yates_shuffle`. Additionally, you will need to implement visualisation techniques that can be used to compare the output of the different random shuffling algorithms.\n",
      "\n",
      "Complete the below function definitions in the provided skeleton code. Do not change the names of the functions or their arguments."
     ]
    },
    {
     "cell_type": "heading",
     "level": 3,
     "metadata": {},
     "source": [
      "1a. Implement `random_sort_shuffle`"
     ]
    },
    {
     "cell_type": "markdown",
     "metadata": {},
     "source": [
      "The `random_sort_shuffle` function should follow the idea of using a random comparator for sorting the array `a`. See lecture slides for details. You might want to search the web for hints on how to use Python's sort function with a custom comparator. (`functools.cmp_to_key` will be very useful)"
     ]
    },
    {
     "cell_type": "code",
     "collapsed": false,
     "input": [
      "from random import choice\n",
      "from functools import cmp_to_key\n",
      "\n",
      "def random_sort_shuffle(a):\n",
      "    cmp = random_comparator\n",
      "    return sorted(a, key=cmp_to_key(cmp))\n",
      "\n",
      "def random_comparator(x, y):\n",
      "    return choice([-1, 0, 1])"
     ],
     "language": "python",
     "metadata": {},
     "outputs": [],
     "prompt_number": 39
    },
    {
     "cell_type": "heading",
     "level": 3,
     "metadata": {},
     "source": [
      "1b. Implement `fisher_yates_shuffle`"
     ]
    },
    {
     "cell_type": "markdown",
     "metadata": {},
     "source": [
      "The `fisher_yates_shuffle` function should implement one of the two versions of Fisher-Yates shuffle as outlined in the lecture slides."
     ]
    },
    {
     "cell_type": "code",
     "collapsed": false,
     "input": [
      "from random import randint\n",
      "\n",
      "def fisher_yates_shuffle(a):\n",
      "    n = len(a)\n",
      "    for i in range(n-1, 0, -1):\n",
      "        j = randint(0, i)\n",
      "        a[i], a[j] = a[j], a[i]\n",
      "    return a"
     ],
     "language": "python",
     "metadata": {},
     "outputs": [],
     "prompt_number": 40
    },
    {
     "cell_type": "heading",
     "level": 3,
     "metadata": {},
     "source": [
      "1c. Implement buggy `fisher_yates_shuffle`"
     ]
    },
    {
     "cell_type": "markdown",
     "metadata": {},
     "source": [
      "Check out the lecture slides for two common bugs that are found in Fisher-Yates shuffle implementations. Implement two buggy versions of `fisher_yates_shuffle` for later analysis."
     ]
    },
    {
     "cell_type": "code",
     "collapsed": false,
     "input": [
      "from random import randint\n",
      "\n",
      "def fisher_yates_shuffle_buggy1(a):\n",
      "    n = len(a)\n",
      "    for i in range(n-1, 0, -1):\n",
      "        j = randint(0, i-1)\n",
      "        a[i], a[j] = a[j], a[i]\n",
      "    return a\n",
      "\n",
      "def fisher_yates_shuffle_buggy2(a):\n",
      "    n = len(a)\n",
      "    for i in range(n-1, 0, -1):\n",
      "        j = randint(0, n-1)\n",
      "        a[i], a[j] = a[j], a[i]\n",
      "    return a"
     ],
     "language": "python",
     "metadata": {},
     "outputs": [],
     "prompt_number": 41
    },
    {
     "cell_type": "heading",
     "level": 3,
     "metadata": {},
     "source": [
      "1d. Perform empirical analysis"
     ]
    },
    {
     "cell_type": "markdown",
     "metadata": {},
     "source": [
      "The empirical analysis is aiming to detect bias in the shuffle algorithms implemented above. You should build a swap matrix for each shuffle algorithm by executing them multiple times on random sequences with a fixed number of elements. You will find guidance in the various IPython notebooks that have been discussed in the lecture. For example, in the Divide-and-Conquer and Randomised Algorithms notebooks different algorithms have been compared empirically in a randomised experiment.\n",
      "\n",
      "You can visualise the swap matrices using the `plt.imshow(matrix)` function (see also the notebook on Random Sampling on the use of `plt.imshow`).\n",
      "\n",
      "Plot the swap matrices and add a few lines of discussion about what you can conclude from the visualisations about possible bias in the different algorithms."
     ]
    },
    {
     "cell_type": "code",
     "collapsed": false,
     "input": [
      "from random import randint\n",
      "\n",
      "def rand_sequence(n):\n",
      "    return [randint(1,n) for _ in range(50)]\n",
      "\n",
      "a = rand_sequence(99)\n",
      "print(a)"
     ],
     "language": "python",
     "metadata": {},
     "outputs": [
      {
       "output_type": "stream",
       "stream": "stdout",
       "text": [
        "[23, 59, 69, 57, 80, 32, 23, 58, 3, 28, 58, 54, 17, 15, 26, 17, 82, 49, 85, 95, 74, 63, 79, 41, 24, 28, 72, 79, 3, 51, 38, 89, 97, 79, 26, 41, 34, 73, 80, 80, 8, 35, 83, 99, 64, 77, 50, 32, 42, 89]\n"
       ]
      }
     ],
     "prompt_number": 45
    },
    {
     "cell_type": "code",
     "collapsed": false,
     "input": [
      "matrix_randsort = np.zeros((50,50))\n",
      "for i in range(0,50):\n",
      "    matrix_randsort[i] = random_sort_shuffle(a)\n",
      "\n",
      "\n",
      "plt.imshow(matrix_randsort,interpolation='nearest')    "
     ],
     "language": "python",
     "metadata": {},
     "outputs": [
      {
       "metadata": {},
       "output_type": "pyout",
       "prompt_number": 47,
       "text": [
        "<matplotlib.image.AxesImage at 0x7fdbf364a390>"
       ]
      },
      {
       "metadata": {},
       "output_type": "display_data",
       "png": "[encoded data removed]",
       "text": [
        "<matplotlib.figure.Figure at 0x7fdbf373d668>"
       ]
      }
     ],
     "prompt_number": 47
    },
    {
     "cell_type": "code",
     "collapsed": false,
     "input": [
      "swap_matrix_fy = np.zeros((50,50))\n",
      "def fisher_yates_shuffle_for_swap_matrix(a):\n",
      "    n = len(a)\n",
      "    for i in range(n-1, 0, -1):\n",
      "        j = randint(0, i)\n",
      "        # a[i], a[j] = a[j], a[i]\n",
      "        if i == j:\n",
      "            swap_matrix_fy[i][j] += 1\n",
      "        else:\n",
      "            swap_matrix_fy[i][j] += 1\n",
      "            swap_matrix_fy[j][i] += 1\n",
      "\n",
      "for i in range(0,1000):\n",
      "    fisher_yates_shuffle_for_swap_matrix(a)\n",
      "\n",
      "print(swap_matrix_fy)\n",
      "plt.imshow(swap_matrix_fy,interpolation='nearest')  "
     ],
     "language": "python",
     "metadata": {},
     "outputs": [
      {
       "output_type": "stream",
       "stream": "stdout",
       "text": [
        "[[   0.  535.  354. ...,   27.   13.   26.]\n",
        " [ 535.  465.  316. ...,   26.   22.   12.]\n",
        " [ 354.  316.  330. ...,   16.   13.   15.]\n",
        " ..., \n",
        " [  27.   26.   16. ...,   17.   24.   15.]\n",
        " [  13.   22.   13. ...,   24.   24.   17.]\n",
        " [  26.   12.   15. ...,   15.   17.   18.]]\n"
       ]
      },
      {
       "metadata": {},
       "output_type": "pyout",
       "prompt_number": 72,
       "text": [
        "<matplotlib.image.AxesImage at 0x7fdbf2e3f7f0>"
       ]
      },
      {
       "metadata": {},
       "output_type": "display_data",
       "png": "[encoded data removed]",
       "text": [
        "<matplotlib.figure.Figure at 0x7fdbf2e70a20>"
       ]
      }
     ],
     "prompt_number": 72
    },
    {
     "cell_type": "code",
     "collapsed": false,
     "input": [
      "swap_matrix_fy_b1 = np.zeros((50,50))\n",
      "def fisher_yates_shuffle_b1_for_swap_matrix(a):\n",
      "    n = len(a)\n",
      "    for i in range(n-1, 0, -1):\n",
      "        j = randint(0, i-1)\n",
      "        # a[i], a[j] = a[j], a[i]\n",
      "        if i == j:\n",
      "            swap_matrix_fy_b1[i][j] += 1\n",
      "        else:\n",
      "            swap_matrix_fy_b1[i][j] += 1\n",
      "            swap_matrix_fy_b1[j][i] += 1\n",
      "\n",
      "for i in range(0,1000):\n",
      "    fisher_yates_shuffle_b1_for_swap_matrix(a)\n",
      "\n",
      "print(swap_matrix_fy_b1)\n",
      "plt.imshow(swap_matrix_fy_b1,interpolation='nearest') "
     ],
     "language": "python",
     "metadata": {},
     "outputs": [
      {
       "output_type": "stream",
       "stream": "stdout",
       "text": [
        "[[    0.  1000.   473. ...,    24.    16.    16.]\n",
        " [ 1000.     0.   527. ...,    21.    24.    26.]\n",
        " [  473.   527.     0. ...,    25.    26.    24.]\n",
        " ..., \n",
        " [   24.    21.    25. ...,     0.    17.    20.]\n",
        " [   16.    24.    26. ...,    17.     0.    26.]\n",
        " [   16.    26.    24. ...,    20.    26.     0.]]\n"
       ]
      },
      {
       "metadata": {},
       "output_type": "pyout",
       "prompt_number": 74,
       "text": [
        "<matplotlib.image.AxesImage at 0x7fdbf2da3588>"
       ]
      },
      {
       "metadata": {},
       "output_type": "display_data",
       "png": "[encoded data removed]",
       "text": [
        "<matplotlib.figure.Figure at 0x7fdbf2e18588>"
       ]
      }
     ],
     "prompt_number": 74
    },
    {
     "cell_type": "code",
     "collapsed": false,
     "input": [
      "swap_matrix_fy_b2 = np.zeros((50,50))\n",
      "def fisher_yates_shuffle_b2_for_swap_matrix(a):\n",
      "    n = len(a)\n",
      "    for i in range(n-1, 0, -1):\n",
      "        j = randint(0, n-1)\n",
      "        # a[i], a[j] = a[j], a[i]\n",
      "        if i == j:\n",
      "            swap_matrix_fy_b2[i][j] += 1\n",
      "        else:\n",
      "            swap_matrix_fy_b2[i][j] += 1\n",
      "            swap_matrix_fy_b2[j][i] += 1\n",
      "\n",
      "for i in range(0,1000):\n",
      "    fisher_yates_shuffle_b2_for_swap_matrix(a)\n",
      "\n",
      "print(swap_matrix_fy_b2)\n",
      "plt.imshow(swap_matrix_fy_b2,interpolation='nearest') "
     ],
     "language": "python",
     "metadata": {},
     "outputs": [
      {
       "output_type": "stream",
       "stream": "stdout",
       "text": [
        "[[  0.  20.  21. ...,  20.  20.  20.]\n",
        " [ 20.  26.  47. ...,  47.  38.  36.]\n",
        " [ 21.  47.  16. ...,  43.  30.  57.]\n",
        " ..., \n",
        " [ 20.  47.  43. ...,  29.  39.  37.]\n",
        " [ 20.  38.  30. ...,  39.  16.  38.]\n",
        " [ 20.  36.  57. ...,  37.  38.  12.]]\n"
       ]
      },
      {
       "metadata": {},
       "output_type": "pyout",
       "prompt_number": 78,
       "text": [
        "<matplotlib.image.AxesImage at 0x7fdbf2c1d588>"
       ]
      },
      {
       "metadata": {},
       "output_type": "display_data",
       "png": "[encoded data removed]",
       "text": [
        "<matplotlib.figure.Figure at 0x7fdbf2c52828>"
       ]
      }
     ],
     "prompt_number": 78
    },
    {
     "cell_type": "code",
     "collapsed": false,
     "input": [],
     "language": "python",
     "metadata": {},
     "outputs": [],
     "prompt_number": 12
    },
    {
     "cell_type": "code",
     "collapsed": false,
     "input": [],
     "language": "python",
     "metadata": {},
     "outputs": []
    }
   ],
   "metadata": {}
  }
 ]
}